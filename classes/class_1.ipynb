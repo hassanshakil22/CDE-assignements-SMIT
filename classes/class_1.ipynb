{
 "cells": [
  {
   "cell_type": "markdown",
   "id": "307995ab",
   "metadata": {},
   "source": [
    "## dictionary"
   ]
  },
  {
   "cell_type": "code",
   "execution_count": 20,
   "id": "f4d02ba1",
   "metadata": {},
   "outputs": [
    {
     "name": "stdout",
     "output_type": "stream",
     "text": [
      "name\n",
      "age\n",
      "status\n",
      "work Status\n",
      "images\n"
     ]
    }
   ],
   "source": [
    "bio_data = {\n",
    "    'name' : 'hassan',\n",
    "    'age' : 20,\n",
    "    'status' : 'Single',\n",
    "    'work Status' : 'Student',\n",
    "    'images' : [\"asset1\",\"asset2\",\"asset3\",\"asset4\",\"asset5\",]\n",
    "}\n",
    "\n",
    "\n",
    "\n",
    "bio_data['work Status']\n",
    "bio_data['images'][0:2]\n",
    "for i in bio_data.keys():\n",
    "    print (i)\n",
    "\n",
    "\n",
    "\n"
   ]
  },
  {
   "cell_type": "code",
   "execution_count": 67,
   "id": "3e9dd6b7",
   "metadata": {},
   "outputs": [
    {
     "name": "stdout",
     "output_type": "stream",
     "text": [
      "{'name': 'hassan', 'status': 'Single', 'work Status': 'Student', 'images': ['asset1', 'asset2', 'asset3', 'asset4', 'asset5']}\n"
     ]
    }
   ],
   "source": [
    "# bio_data.pop('age')\n",
    "print(bio_data)"
   ]
  },
  {
   "cell_type": "code",
   "execution_count": null,
   "id": "7253c37e",
   "metadata": {},
   "outputs": [],
   "source": []
  },
  {
   "cell_type": "code",
   "execution_count": 68,
   "id": "2f8837b4",
   "metadata": {},
   "outputs": [
    {
     "name": "stdout",
     "output_type": "stream",
     "text": [
      "hassan shakil\n",
      "shah ruman\n",
      "sohail ahmed\n"
     ]
    }
   ],
   "source": [
    "bio_data_Dict = [{'first-name':'hassan','last-name':'shakil','age': 20 ,'weight':70,},\n",
    "                 {'first-name':'shah','last-name':'ruman','age': 23 ,'weight':70,},\n",
    "                 {'first-name':'sohail','last-name':'ahmed','age': 230 ,'weight':70,},]\n",
    "\n",
    "for i in range(len(bio_data_Dict)):\n",
    "    print(bio_data_Dict[i]['first-name'],bio_data_Dict[i]['last-name'])"
   ]
  },
  {
   "cell_type": "markdown",
   "id": "c448d43b",
   "metadata": {},
   "source": [
    "## Functions"
   ]
  },
  {
   "cell_type": "code",
   "execution_count": 70,
   "id": "1bc43f8a",
   "metadata": {},
   "outputs": [
    {
     "name": "stdout",
     "output_type": "stream",
     "text": [
      "12.568\n",
      "7\n"
     ]
    }
   ],
   "source": [
    "def addition(a,b):\n",
    "    return a+b\n",
    "\n",
    "def circle_area(radius , pi=3.142):\n",
    "\n",
    "    return pi * radius**2\n",
    "\n",
    "\n",
    "print(circle_area(2))\n",
    "print(addition(2,5))"
   ]
  }
 ],
 "metadata": {
  "kernelspec": {
   "display_name": "Python 3",
   "language": "python",
   "name": "python3"
  },
  "language_info": {
   "codemirror_mode": {
    "name": "ipython",
    "version": 3
   },
   "file_extension": ".py",
   "mimetype": "text/x-python",
   "name": "python",
   "nbconvert_exporter": "python",
   "pygments_lexer": "ipython3",
   "version": "3.13.2"
  }
 },
 "nbformat": 4,
 "nbformat_minor": 5
}
