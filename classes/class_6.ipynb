{
 "cells": [
  {
   "cell_type": "markdown",
   "id": "c39b1403",
   "metadata": {},
   "source": [
    "## USING BEAUTIFUL SOUP"
   ]
  },
  {
   "cell_type": "code",
   "execution_count": 1,
   "id": "6259cc20",
   "metadata": {},
   "outputs": [],
   "source": [
    "from bs4 import BeautifulSoup\n",
    "import requests"
   ]
  },
  {
   "cell_type": "code",
   "execution_count": null,
   "id": "53153200",
   "metadata": {},
   "outputs": [],
   "source": []
  },
  {
   "cell_type": "markdown",
   "id": "2731a34b",
   "metadata": {},
   "source": []
  },
  {
   "cell_type": "code",
   "execution_count": 2,
   "id": "7cad2121",
   "metadata": {},
   "outputs": [],
   "source": [
    "url = \"https://coinmarketcap.com\"\n",
    "req = requests.get(url)\n"
   ]
  },
  {
   "cell_type": "code",
   "execution_count": 3,
   "id": "01a35c66",
   "metadata": {},
   "outputs": [],
   "source": [
    "soup = BeautifulSoup(req.content, 'html.parser')"
   ]
  },
  {
   "cell_type": "code",
   "execution_count": 4,
   "id": "ebc9f545",
   "metadata": {},
   "outputs": [
    {
     "name": "stdout",
     "output_type": "stream",
     "text": [
      "#NamePrice1h %24h %7d %Market CapVolume(24h)Circulating SupplyLast 7 Days\n",
      "1 BitcoinBTC $103,526.59 0.03% 0.55% 7.44% $2.06T$2,056,254,305,666 $41,568,260,400401.53K BTC\n",
      "2 EthereumETH $2,416.68 0.07% 3.70% 31.83% $291.96B$291,959,510,743 $25,392,135,74210.50M ETH\n",
      "3 TetherUSDT $1.00 0.00% 0.03% 0.06% $149.76B$149,757,906,725 $82,110,298,06782.09B USDT\n",
      "4 XRPXRP $2.40 0.09% 2.15% 9.08% $141B$140,998,162,331 $3,928,724,8661.63B XRP\n",
      "5 BNBBNB $651.35 0.28% 2.61% 8.92% $91.76B$91,762,000,573 $2,413,553,2303.70M BNB\n",
      "6 SolanaSOL $170.78 0.36% 1.11% 15.17% $88.64B$88,642,051,387 $4,393,559,74425.72M SOL\n",
      "7 USDCUSDC $1.00 0.01% 0.02% 0.00% $60.78B$60,778,018,091 $12,804,914,60312.80B USDC\n",
      "8 DogecoinDOGE $0.2264 0.22% 11.23% 26.90% $33.78B$33,781,419,447 $2,386,153,84310.53B DOGE\n",
      "9 CardanoADA $0.8080 0.37% 3.90% 13.00% $28.53B$28,534,656,333 $1,155,432,0311.42B ADA\n",
      "10 TRONTRX $0.2598 0.02% 0.68% 4.85% $24.67B$24,666,446,294 $1,023,692,7363.93B TRX\n"
     ]
    }
   ],
   "source": [
    "\n",
    "table = soup.find(\"table\", class_ = \"cmc-table\")\n",
    "rows = table.find_all(\"tr\")\n",
    "print(rows[0].text )\n",
    "for row in rows[1:11]: # start from second\n",
    "    table_data = row.find_all(\"td\")\n",
    "    rank = table_data[1].text\n",
    "    name = table_data[2].text\n",
    "    hour_percent = table_data[3].text\n",
    "    twentyFour_hour_percent = table_data[4].text\n",
    "    seven_day_percent = table_data[5].text\n",
    "    market_cap = table_data[6].text\n",
    "    volume_24h = table_data[7].text\n",
    "    c_supply = table_data[8].text\n",
    "    print(rank,name,hour_percent,twentyFour_hour_percent,seven_day_percent,market_cap,volume_24h,c_supply)"
   ]
  },
  {
   "cell_type": "markdown",
   "id": "ca91855a",
   "metadata": {},
   "source": [
    "## USING SELENIUM "
   ]
  },
  {
   "cell_type": "markdown",
   "id": "1cf89dcc",
   "metadata": {},
   "source": [
    "### why using seleium rather than beautiful soup \n",
    "- for automation    \n",
    "- opens a browser \n",
    "    - since it works as a browser it renders whole javascript rather than get request as in BS (beautiful soup)\n",
    "- it provides clicks while scraping    "
   ]
  },
  {
   "cell_type": "code",
   "execution_count": 5,
   "id": "8a6cd7c5",
   "metadata": {},
   "outputs": [],
   "source": [
    "from selenium import webdriver\n",
    "from selenium.webdriver.chrome.options import Options\n",
    "from selenium.webdriver.common.by import By  \n",
    "\n",
    "path = r\"C:\\Users\\hhhh\\Downloads\\chromedriver-win64\\chromedriver-win64\\chromedriver.exe\"\n",
    "\n",
    "\n",
    "options = Options()\n",
    "# options.add_argument(\"--headless\")\n",
    "\n",
    "driver = webdriver.Chrome(path,options=options)\n",
    "driver.get(\"https://realpython.github.io/fake-jobs/\")\n"
   ]
  },
  {
   "cell_type": "code",
   "execution_count": 6,
   "id": "26ab7daf",
   "metadata": {},
   "outputs": [
    {
     "data": {
      "text/plain": [
       "'Senior Python Developer'"
      ]
     },
     "execution_count": 6,
     "metadata": {},
     "output_type": "execute_result"
    }
   ],
   "source": [
    "title = driver.find_element(By.CLASS_NAME , \"title.is-5\").text\n",
    "title"
   ]
  },
  {
   "cell_type": "markdown",
   "id": "09ed81fe",
   "metadata": {},
   "source": [
    "## bs4\n",
    "- can find element by (tag,id,class)\n",
    "## Selenium\n",
    "- can find element by (tag,xpath,js-selector,id,class)"
   ]
  },
  {
   "cell_type": "code",
   "execution_count": 7,
   "id": "79d2a6e7",
   "metadata": {},
   "outputs": [
    {
     "data": {
      "text/plain": [
       "'Senior Python Developer'"
      ]
     },
     "execution_count": 7,
     "metadata": {},
     "output_type": "execute_result"
    }
   ],
   "source": [
    "title = driver.find_element(By.XPATH , r\"//*[@id='ResultsContainer']/div[1]/div/div/div[1]/div[2]/h2\").text\n",
    "title"
   ]
  },
  {
   "cell_type": "code",
   "execution_count": 8,
   "id": "ffc4c2a7",
   "metadata": {},
   "outputs": [
    {
     "name": "stdout",
     "output_type": "stream",
     "text": [
      "Senior Python Developer\n",
      "Energy engineer\n",
      "Legal executive\n",
      "Fitness centre manager\n",
      "Product manager\n",
      "Medical technical officer\n",
      "Physiological scientist\n",
      "Textile designer\n",
      "Television floor manager\n",
      "Waste management officer\n",
      "Software Engineer (Python)\n",
      "Interpreter\n",
      "Architect\n",
      "Meteorologist\n",
      "Audiological scientist\n",
      "English as a second language teacher\n",
      "Surgeon\n",
      "Equities trader\n",
      "Newspaper journalist\n",
      "Materials engineer\n",
      "Python Programmer (Entry-Level)\n",
      "Product/process development scientist\n",
      "Scientist, research (maths)\n",
      "Ecologist\n",
      "Materials engineer\n",
      "Historic buildings inspector/conservation officer\n",
      "Data scientist\n",
      "Psychiatrist\n",
      "Structural engineer\n",
      "Immigration officer\n",
      "Python Programmer (Entry-Level)\n",
      "Neurosurgeon\n",
      "Broadcast engineer\n",
      "Make\n",
      "Nurse, adult\n",
      "Air broker\n",
      "Editor, film/video\n",
      "Production assistant, radio\n",
      "Engineer, communications\n",
      "Sales executive\n",
      "Software Developer (Python)\n",
      "Futures trader\n",
      "Tour manager\n",
      "Cytogeneticist\n",
      "Designer, multimedia\n",
      "Trade union research officer\n",
      "Chemist, analytical\n",
      "Programmer, multimedia\n",
      "Engineer, broadcasting (operations)\n",
      "Teacher, primary school\n",
      "Python Developer\n",
      "Manufacturing systems engineer\n",
      "Producer, television/film/video\n",
      "Scientist, forensic\n",
      "Bonds trader\n",
      "Editorial assistant\n",
      "Photographer\n",
      "Retail banker\n",
      "Jewellery designer\n",
      "Ophthalmologist\n",
      "Back-End Web Developer (Python, Django)\n",
      "Licensed conveyancer\n",
      "Futures trader\n",
      "Counselling psychologist\n",
      "Insurance underwriter\n",
      "Engineer, automotive\n",
      "Producer, radio\n",
      "Dispensing optician\n",
      "Designer, fashion/clothing\n",
      "Chartered loss adjuster\n",
      "Back-End Web Developer (Python, Django)\n",
      "Forest/woodland manager\n",
      "Clinical cytogeneticist\n",
      "Print production planner\n",
      "Systems developer\n",
      "Graphic designer\n",
      "Writer\n",
      "Field seismologist\n",
      "Chief Strategy Officer\n",
      "Air cabin crew\n",
      "Python Programmer (Entry-Level)\n",
      "Warden/ranger\n",
      "Sports therapist\n",
      "Arts development officer\n",
      "Printmaker\n",
      "Health and safety adviser\n",
      "Manufacturing systems engineer\n",
      "Programmer, applications\n",
      "Medical physicist\n",
      "Media planner\n",
      "Software Developer (Python)\n",
      "Surveyor, land/geomatics\n",
      "Legal executive\n",
      "Librarian, academic\n",
      "Barrister\n",
      "Museum/gallery exhibitions officer\n",
      "Radiographer, diagnostic\n",
      "Database administrator\n",
      "Furniture designer\n",
      "Ship broker\n"
     ]
    }
   ],
   "source": [
    "titles = driver.find_elements(By.CLASS_NAME,\"title.is-5\")\n",
    "for title in titles:\n",
    "    print(title.text)"
   ]
  },
  {
   "cell_type": "code",
   "execution_count": 9,
   "id": "8a23fcd5",
   "metadata": {},
   "outputs": [
    {
     "name": "stdout",
     "output_type": "stream",
     "text": [
      "title : Senior Python Developer , subtitle : Payne, Roberts and Davis , location : Stewartbury, AA , date : 2021-04-08\n",
      "title : Energy engineer , subtitle : Vasquez-Davidson , location : Christopherville, AA , date : 2021-04-08\n",
      "title : Legal executive , subtitle : Jackson, Chambers and Levy , location : Port Ericaburgh, AA , date : 2021-04-08\n",
      "title : Fitness centre manager , subtitle : Savage-Bradley , location : East Seanview, AP , date : 2021-04-08\n",
      "title : Product manager , subtitle : Ramirez Inc , location : North Jamieview, AP , date : 2021-04-08\n",
      "title : Medical technical officer , subtitle : Rogers-Yates , location : Davidville, AP , date : 2021-04-08\n",
      "title : Physiological scientist , subtitle : Kramer-Klein , location : South Christopher, AE , date : 2021-04-08\n",
      "title : Textile designer , subtitle : Meyers-Johnson , location : Port Jonathan, AE , date : 2021-04-08\n",
      "title : Television floor manager , subtitle : Hughes-Williams , location : Osbornetown, AE , date : 2021-04-08\n",
      "title : Waste management officer , subtitle : Jones, Williams and Villa , location : Scotttown, AP , date : 2021-04-08\n",
      "title : Software Engineer (Python) , subtitle : Garcia PLC , location : Ericberg, AE , date : 2021-04-08\n",
      "title : Interpreter , subtitle : Gregory and Sons , location : Ramireztown, AE , date : 2021-04-08\n",
      "title : Architect , subtitle : Clark, Garcia and Sosa , location : Figueroaview, AA , date : 2021-04-08\n",
      "title : Meteorologist , subtitle : Bush PLC , location : Kelseystad, AA , date : 2021-04-08\n",
      "title : Audiological scientist , subtitle : Salazar-Meyers , location : Williamsburgh, AE , date : 2021-04-08\n",
      "title : English as a second language teacher , subtitle : Parker, Murphy and Brooks , location : Mitchellburgh, AE , date : 2021-04-08\n",
      "title : Surgeon , subtitle : Cruz-Brown , location : West Jessicabury, AA , date : 2021-04-08\n",
      "title : Equities trader , subtitle : Macdonald-Ferguson , location : Maloneshire, AE , date : 2021-04-08\n",
      "title : Newspaper journalist , subtitle : Williams, Peterson and Rojas , location : Johnsonton, AA , date : 2021-04-08\n",
      "title : Materials engineer , subtitle : Smith and Sons , location : South Davidtown, AP , date : 2021-04-08\n",
      "title : Python Programmer (Entry-Level) , subtitle : Moss, Duncan and Allen , location : Port Sara, AE , date : 2021-04-08\n",
      "title : Product/process development scientist , subtitle : Gomez-Carroll , location : Marktown, AA , date : 2021-04-08\n",
      "title : Scientist, research (maths) , subtitle : Manning, Welch and Herring , location : Laurenland, AE , date : 2021-04-08\n",
      "title : Ecologist , subtitle : Lee, Gutierrez and Brown , location : Lauraton, AP , date : 2021-04-08\n",
      "title : Materials engineer , subtitle : Davis, Serrano and Cook , location : South Tammyberg, AP , date : 2021-04-08\n",
      "title : Historic buildings inspector/conservation officer , subtitle : Smith LLC , location : North Brandonville, AP , date : 2021-04-08\n",
      "title : Data scientist , subtitle : Thomas Group , location : Port Robertfurt, AA , date : 2021-04-08\n",
      "title : Psychiatrist , subtitle : Silva-King , location : Burnettbury, AE , date : 2021-04-08\n",
      "title : Structural engineer , subtitle : Pierce-Long , location : Herbertside, AA , date : 2021-04-08\n",
      "title : Immigration officer , subtitle : Walker-Simpson , location : Christopherport, AP , date : 2021-04-08\n",
      "title : Python Programmer (Entry-Level) , subtitle : Cooper and Sons , location : West Victor, AE , date : 2021-04-08\n",
      "title : Neurosurgeon , subtitle : Donovan, Gonzalez and Figueroa , location : Port Aaron, AP , date : 2021-04-08\n",
      "title : Broadcast engineer , subtitle : Morgan, Butler and Bennett , location : Loribury, AA , date : 2021-04-08\n",
      "title : Make , subtitle : Snyder-Lee , location : Angelastad, AP , date : 2021-04-08\n",
      "title : Nurse, adult , subtitle : Harris PLC , location : Larrytown, AE , date : 2021-04-08\n",
      "title : Air broker , subtitle : Washington PLC , location : West Colin, AP , date : 2021-04-08\n",
      "title : Editor, film/video , subtitle : Brown, Price and Campbell , location : West Stephanie, AP , date : 2021-04-08\n",
      "title : Production assistant, radio , subtitle : Mcgee PLC , location : Laurentown, AP , date : 2021-04-08\n",
      "title : Engineer, communications , subtitle : Dixon Inc , location : Wrightberg, AP , date : 2021-04-08\n",
      "title : Sales executive , subtitle : Thompson, Sheppard and Ward , location : Alberttown, AE , date : 2021-04-08\n",
      "title : Software Developer (Python) , subtitle : Adams-Brewer , location : Brockburgh, AE , date : 2021-04-08\n",
      "title : Futures trader , subtitle : Schneider-Brady , location : North Jason, AE , date : 2021-04-08\n",
      "title : Tour manager , subtitle : Gonzales-Frank , location : Arnoldhaven, AE , date : 2021-04-08\n",
      "title : Cytogeneticist , subtitle : Smith-Wong , location : Lake Destiny, AP , date : 2021-04-08\n",
      "title : Designer, multimedia , subtitle : Pierce-Herrera , location : South Timothyburgh, AP , date : 2021-04-08\n",
      "title : Trade union research officer , subtitle : Aguilar, Rivera and Quinn , location : New Jimmyton, AE , date : 2021-04-08\n",
      "title : Chemist, analytical , subtitle : Lowe, Barnes and Thomas , location : New Lucasbury, AP , date : 2021-04-08\n",
      "title : Programmer, multimedia , subtitle : Lewis, Gonzalez and Vasquez , location : Port Cory, AE , date : 2021-04-08\n",
      "title : Engineer, broadcasting (operations) , subtitle : Taylor PLC , location : Gileston, AA , date : 2021-04-08\n",
      "title : Teacher, primary school , subtitle : Oliver, Jones and Ramirez , location : Cindyshire, AA , date : 2021-04-08\n",
      "title : Python Developer , subtitle : Rivera and Sons , location : East Michaelfort, AA , date : 2021-04-08\n",
      "title : Manufacturing systems engineer , subtitle : Garcia PLC , location : Joybury, AE , date : 2021-04-08\n",
      "title : Producer, television/film/video , subtitle : Johnson, Wells and Kramer , location : Emmatown, AE , date : 2021-04-08\n",
      "title : Scientist, forensic , subtitle : Gonzalez LLC , location : Colehaven, AP , date : 2021-04-08\n",
      "title : Bonds trader , subtitle : Morgan, White and Macdonald , location : Port Coryton, AE , date : 2021-04-08\n"
     ]
    },
    {
     "name": "stderr",
     "output_type": "stream",
     "text": [
      "c:\\Users\\hhhh\\AppData\\Local\\Programs\\Python\\Python313\\Lib\\site-packages\\selenium\\webdriver\\remote\\webelement.py:162: SyntaxWarning: invalid escape sequence '\\_'\n",
      "  \"\"\"Finds element within this element's children by ID.\n",
      "c:\\Users\\hhhh\\AppData\\Local\\Programs\\Python\\Python313\\Lib\\site-packages\\selenium\\webdriver\\remote\\webelement.py:179: SyntaxWarning: invalid escape sequence '\\_'\n",
      "  \"\"\"Finds a list of elements within this element's children by ID.\n",
      "c:\\Users\\hhhh\\AppData\\Local\\Programs\\Python\\Python313\\Lib\\site-packages\\selenium\\webdriver\\remote\\webdriver.py:346: SyntaxWarning: invalid escape sequence '\\_'\n",
      "  \"\"\"Finds an element by id.\n",
      "c:\\Users\\hhhh\\AppData\\Local\\Programs\\Python\\Python313\\Lib\\site-packages\\selenium\\webdriver\\remote\\webdriver.py:363: SyntaxWarning: invalid escape sequence '\\_'\n",
      "  \"\"\"\n",
      "c:\\Users\\hhhh\\AppData\\Local\\Programs\\Python\\Python313\\Lib\\site-packages\\selenium\\webdriver\\remote\\webdriver.py:617: SyntaxWarning: invalid escape sequence '\\*'\n",
      "  \"\"\"\n",
      "c:\\Users\\hhhh\\AppData\\Local\\Programs\\Python\\Python313\\Lib\\site-packages\\selenium\\webdriver\\remote\\webdriver.py:639: SyntaxWarning: invalid escape sequence '\\*'\n",
      "  \"\"\"\n"
     ]
    },
    {
     "ename": "NoSuchWindowException",
     "evalue": "Message: no such window: target window already closed\nfrom unknown error: web view not found\n  (Session info: chrome=136.0.7103.93)\n",
     "output_type": "error",
     "traceback": [
      "\u001b[31m---------------------------------------------------------------------------\u001b[39m",
      "\u001b[31mNoSuchWindowException\u001b[39m                     Traceback (most recent call last)",
      "\u001b[36mCell\u001b[39m\u001b[36m \u001b[39m\u001b[32mIn[9]\u001b[39m\u001b[32m, line 6\u001b[39m\n\u001b[32m      4\u001b[39m subtitle = div.find_element(By.CLASS_NAME, \u001b[33m\"\u001b[39m\u001b[33msubtitle.is-6.company\u001b[39m\u001b[33m\"\u001b[39m).text\n\u001b[32m      5\u001b[39m location = div.find_element(By.CLASS_NAME, \u001b[33m\"\u001b[39m\u001b[33mlocation\u001b[39m\u001b[33m\"\u001b[39m).text\n\u001b[32m----> \u001b[39m\u001b[32m6\u001b[39m date= \u001b[43mdiv\u001b[49m\u001b[43m.\u001b[49m\u001b[43mfind_element\u001b[49m\u001b[43m(\u001b[49m\u001b[43mBy\u001b[49m\u001b[43m.\u001b[49m\u001b[43mCLASS_NAME\u001b[49m\u001b[43m,\u001b[49m\u001b[43m \u001b[49m\u001b[33;43m\"\u001b[39;49m\u001b[33;43mis-small.has-text-grey\u001b[39;49m\u001b[33;43m\"\u001b[39;49m\u001b[43m)\u001b[49m.text\n\u001b[32m      7\u001b[39m \u001b[38;5;28mprint\u001b[39m (\u001b[33mf\u001b[39m\u001b[33m\"\u001b[39m\u001b[33mtitle : \u001b[39m\u001b[38;5;132;01m{\u001b[39;00mtitle\u001b[38;5;132;01m}\u001b[39;00m\u001b[33m , subtitle : \u001b[39m\u001b[38;5;132;01m{\u001b[39;00msubtitle\u001b[38;5;132;01m}\u001b[39;00m\u001b[33m , location : \u001b[39m\u001b[38;5;132;01m{\u001b[39;00mlocation\u001b[38;5;132;01m}\u001b[39;00m\u001b[33m , date : \u001b[39m\u001b[38;5;132;01m{\u001b[39;00mdate\u001b[38;5;132;01m}\u001b[39;00m\u001b[33m\"\u001b[39m)     \n",
      "\u001b[36mFile \u001b[39m\u001b[32mc:\\Users\\hhhh\\AppData\\Local\\Programs\\Python\\Python313\\Lib\\site-packages\\selenium\\webdriver\\remote\\webelement.py:658\u001b[39m, in \u001b[36mWebElement.find_element\u001b[39m\u001b[34m(self, by, value)\u001b[39m\n\u001b[32m    655\u001b[39m         by = By.CSS_SELECTOR\n\u001b[32m    656\u001b[39m         value = \u001b[33m'\u001b[39m\u001b[33m[name=\u001b[39m\u001b[33m\"\u001b[39m\u001b[38;5;132;01m%s\u001b[39;00m\u001b[33m\"\u001b[39m\u001b[33m]\u001b[39m\u001b[33m'\u001b[39m % value\n\u001b[32m--> \u001b[39m\u001b[32m658\u001b[39m \u001b[38;5;28;01mreturn\u001b[39;00m \u001b[38;5;28;43mself\u001b[39;49m\u001b[43m.\u001b[49m\u001b[43m_execute\u001b[49m\u001b[43m(\u001b[49m\u001b[43mCommand\u001b[49m\u001b[43m.\u001b[49m\u001b[43mFIND_CHILD_ELEMENT\u001b[49m\u001b[43m,\u001b[49m\n\u001b[32m    659\u001b[39m \u001b[43m                     \u001b[49m\u001b[43m{\u001b[49m\u001b[33;43m\"\u001b[39;49m\u001b[33;43musing\u001b[39;49m\u001b[33;43m\"\u001b[39;49m\u001b[43m:\u001b[49m\u001b[43m \u001b[49m\u001b[43mby\u001b[49m\u001b[43m,\u001b[49m\u001b[43m \u001b[49m\u001b[33;43m\"\u001b[39;49m\u001b[33;43mvalue\u001b[39;49m\u001b[33;43m\"\u001b[39;49m\u001b[43m:\u001b[49m\u001b[43m \u001b[49m\u001b[43mvalue\u001b[49m\u001b[43m}\u001b[49m\u001b[43m)\u001b[49m[\u001b[33m'\u001b[39m\u001b[33mvalue\u001b[39m\u001b[33m'\u001b[39m]\n",
      "\u001b[36mFile \u001b[39m\u001b[32mc:\\Users\\hhhh\\AppData\\Local\\Programs\\Python\\Python313\\Lib\\site-packages\\selenium\\webdriver\\remote\\webelement.py:633\u001b[39m, in \u001b[36mWebElement._execute\u001b[39m\u001b[34m(self, command, params)\u001b[39m\n\u001b[32m    631\u001b[39m     params = {}\n\u001b[32m    632\u001b[39m params[\u001b[33m'\u001b[39m\u001b[33mid\u001b[39m\u001b[33m'\u001b[39m] = \u001b[38;5;28mself\u001b[39m._id\n\u001b[32m--> \u001b[39m\u001b[32m633\u001b[39m \u001b[38;5;28;01mreturn\u001b[39;00m \u001b[38;5;28;43mself\u001b[39;49m\u001b[43m.\u001b[49m\u001b[43m_parent\u001b[49m\u001b[43m.\u001b[49m\u001b[43mexecute\u001b[49m\u001b[43m(\u001b[49m\u001b[43mcommand\u001b[49m\u001b[43m,\u001b[49m\u001b[43m \u001b[49m\u001b[43mparams\u001b[49m\u001b[43m)\u001b[49m\n",
      "\u001b[36mFile \u001b[39m\u001b[32mc:\\Users\\hhhh\\AppData\\Local\\Programs\\Python\\Python313\\Lib\\site-packages\\selenium\\webdriver\\remote\\webdriver.py:321\u001b[39m, in \u001b[36mWebDriver.execute\u001b[39m\u001b[34m(self, driver_command, params)\u001b[39m\n\u001b[32m    319\u001b[39m response = \u001b[38;5;28mself\u001b[39m.command_executor.execute(driver_command, params)\n\u001b[32m    320\u001b[39m \u001b[38;5;28;01mif\u001b[39;00m response:\n\u001b[32m--> \u001b[39m\u001b[32m321\u001b[39m     \u001b[38;5;28;43mself\u001b[39;49m\u001b[43m.\u001b[49m\u001b[43merror_handler\u001b[49m\u001b[43m.\u001b[49m\u001b[43mcheck_response\u001b[49m\u001b[43m(\u001b[49m\u001b[43mresponse\u001b[49m\u001b[43m)\u001b[49m\n\u001b[32m    322\u001b[39m     response[\u001b[33m'\u001b[39m\u001b[33mvalue\u001b[39m\u001b[33m'\u001b[39m] = \u001b[38;5;28mself\u001b[39m._unwrap_value(\n\u001b[32m    323\u001b[39m         response.get(\u001b[33m'\u001b[39m\u001b[33mvalue\u001b[39m\u001b[33m'\u001b[39m, \u001b[38;5;28;01mNone\u001b[39;00m))\n\u001b[32m    324\u001b[39m     \u001b[38;5;28;01mreturn\u001b[39;00m response\n",
      "\u001b[36mFile \u001b[39m\u001b[32mc:\\Users\\hhhh\\AppData\\Local\\Programs\\Python\\Python313\\Lib\\site-packages\\selenium\\webdriver\\remote\\errorhandler.py:242\u001b[39m, in \u001b[36mErrorHandler.check_response\u001b[39m\u001b[34m(self, response)\u001b[39m\n\u001b[32m    240\u001b[39m         alert_text = value[\u001b[33m'\u001b[39m\u001b[33malert\u001b[39m\u001b[33m'\u001b[39m].get(\u001b[33m'\u001b[39m\u001b[33mtext\u001b[39m\u001b[33m'\u001b[39m)\n\u001b[32m    241\u001b[39m     \u001b[38;5;28;01mraise\u001b[39;00m exception_class(message, screen, stacktrace, alert_text)\n\u001b[32m--> \u001b[39m\u001b[32m242\u001b[39m \u001b[38;5;28;01mraise\u001b[39;00m exception_class(message, screen, stacktrace)\n",
      "\u001b[31mNoSuchWindowException\u001b[39m: Message: no such window: target window already closed\nfrom unknown error: web view not found\n  (Session info: chrome=136.0.7103.93)\n"
     ]
    }
   ],
   "source": [
    "divs = driver.find_elements(By.CLASS_NAME , \"column.is-half\")\n",
    "for div in divs:\n",
    "    title = div.find_element(By.CLASS_NAME, \"title.is-5\").text\n",
    "    subtitle = div.find_element(By.CLASS_NAME, \"subtitle.is-6.company\").text\n",
    "    location = div.find_element(By.CLASS_NAME, \"location\").text\n",
    "    date= div.find_element(By.CLASS_NAME, \"is-small.has-text-grey\").text\n",
    "    print (f\"title : {title} , subtitle : {subtitle} , location : {location} , date : {date}\")     \n"
   ]
  },
  {
   "cell_type": "markdown",
   "id": "9fc67bfa",
   "metadata": {},
   "source": [
    "## coin market cap froms selenium"
   ]
  },
  {
   "cell_type": "code",
   "execution_count": 20,
   "id": "03612727",
   "metadata": {},
   "outputs": [],
   "source": [
    "from selenium import webdriver\n",
    "from selenium.webdriver.chrome.options import Options\n",
    "from selenium.webdriver.common.by import By  \n",
    "import time\n",
    "\n",
    "path = r\"C:\\Users\\hhhh\\Downloads\\chromedriver-win64\\chromedriver-win64\\chromedriver.exe\"\n",
    "\n",
    "options = Options()\n",
    "# options.add_argument(\"--headless\")\n",
    "\n",
    "driver = webdriver.Chrome(path, options=options)\n",
    "driver.get(\"https://coinmarketcap.com\")\n",
    "\n",
    "scroll_pause_time = 0.5  # increased pause for slower scroll\n",
    "scroll_increment = 300  # smaller scroll step for smoother movement\n",
    "current_position = 0\n",
    "max_scroll = driver.execute_script(\"return document.body.scrollHeight\")\n",
    "\n",
    "while current_position < max_scroll:\n",
    "    driver.execute_script(f\"window.scrollTo(0, {current_position});\")\n",
    "    time.sleep(scroll_pause_time)\n",
    "    current_position += scroll_increment\n",
    "    max_scroll = driver.execute_script(\"return document.body.scrollHeight\")\n"
   ]
  },
  {
   "cell_type": "markdown",
   "id": "52ea5443",
   "metadata": {},
   "source": [
    "##"
   ]
  },
  {
   "cell_type": "code",
   "execution_count": null,
   "id": "a644755e",
   "metadata": {},
   "outputs": [
    {
     "name": "stdout",
     "output_type": "stream",
     "text": [
      "# | Name | Price | 1h % | 24h % | 7d % | Market Cap | Volume(24h) | Circulating Supply | Last 7 Days\n",
      "   rank                    name hour_percent twentyFour_hour_percent  \\\n",
      "0     1       Bitcoin\\nBTC\\nBuy  $103,527.52                   0.10%   \n",
      "1     2      Ethereum\\nETH\\nBuy    $2,437.34                   0.12%   \n",
      "2     3       Tether\\nUSDT\\nBuy        $1.00                   0.01%   \n",
      "3     4           XRP\\nXRP\\nBuy        $2.40                   0.03%   \n",
      "4     5           BNB\\nBNB\\nBuy      $652.04                   0.37%   \n",
      "..  ...                     ...          ...                     ...   \n",
      "95   96  PancakeSwap\\nCAKE\\nBuy        $2.39                   0.40%   \n",
      "96   97     PAX Gold\\nPAXG\\nBuy    $3,330.48                   0.04%   \n",
      "97   98        Helium\\nHNT\\nBuy        $4.13                   1.13%   \n",
      "98   99         Kaia\\nKAIA\\nBuy      $0.1232                   0.28%   \n",
      "99  100         Flow\\nFLOW\\nBuy      $0.4444                   0.09%   \n",
      "\n",
      "   seven_day_percent market_cap          volume_24h  \\\n",
      "0              0.45%      7.42%  $2,056,032,591,811   \n",
      "1              6.04%     32.80%    $294,273,580,116   \n",
      "2              0.03%      0.01%    $149,756,563,819   \n",
      "3              2.52%      8.85%    $141,095,811,593   \n",
      "4              2.81%      9.01%     $91,865,875,509   \n",
      "..               ...        ...                 ...   \n",
      "95             4.62%     19.46%        $797,817,056   \n",
      "96             0.32%      2.01%        $789,048,725   \n",
      "97             0.74%      6.45%        $753,129,178   \n",
      "98             2.84%      2.71%        $741,364,544   \n",
      "99             3.55%     13.16%        $702,828,251   \n",
      "\n",
      "                        c_supply  \n",
      "0   $41,307,480,858\\n399.06K BTC  \n",
      "1    $26,216,829,610\\n10.75M ETH  \n",
      "2   $80,564,002,613\\n80.55B USDT  \n",
      "3      $3,820,585,392\\n1.58B XRP  \n",
      "4      $2,381,276,265\\n3.65M BNB  \n",
      "..                           ...  \n",
      "95     $147,027,909\\n61.19M CAKE  \n",
      "96      $33,810,228\\n10.15K PAXG  \n",
      "97         $8,147,065\\n1.97M HNT  \n",
      "98     $24,271,201\\n196.88M KAIA  \n",
      "99      $34,190,057\\n76.83M FLOW  \n",
      "\n",
      "[100 rows x 8 columns]\n"
     ]
    }
   ],
   "source": [
    "import pandas as pd\n",
    "\n",
    "table = driver.find_element(By.CLASS_NAME , \"cmc-table\")\n",
    "rows = table.find_elements(By.TAG_NAME, \"tr\")\n",
    "print(rows[0].text.replace('\\n', ' | '))\n",
    "columns = rows[0].text\n",
    "data = []\n",
    "for row in rows[1:]:\n",
    "    table_data = row.find_elements(By.TAG_NAME , \"td\")\n",
    "    rank = table_data[1].text\n",
    "    name = table_data[2].text\n",
    "    hour_percent = table_data[3].text\n",
    "    twentyFour_hour_percent = table_data[4].text\n",
    "    seven_day_percent = table_data[5].text\n",
    "    market_cap = table_data[6].text\n",
    "    volume_24h = table_data[7].text\n",
    "    c_supply = table_data[8].text\n",
    "    \n",
    "    # print(rank,name,hour_percent,twentyFour_hour_percent,seven_day_percent,market_cap,volume_24h,c_supply)\n",
    "    \n",
    "    data.append({\n",
    "        \"rank\":rank ,\n",
    "        \"name\":name,\n",
    "        \"hour_percent\":hour_percent,                \n",
    "        \"twentyFour_hour_percent\":twentyFour_hour_percent,\n",
    "        \"seven_day_percent\":seven_day_percent,\n",
    "        \"market_cap\":market_cap,\n",
    "        \"volume_24h\":volume_24h,\n",
    "        \"c_supply\":c_supply\n",
    "        \n",
    "    })\n",
    "\n",
    "df = pd.DataFrame(data)\n",
    "df.to_excel(\"coinmarketcap.xlsx\", index=False)\n",
    "print(df)\n",
    "    "
   ]
  },
  {
   "cell_type": "code",
   "execution_count": null,
   "id": "fa21385d",
   "metadata": {},
   "outputs": [
    {
     "name": "stdout",
     "output_type": "stream",
     "text": [
      "Collecting openpyxl\n",
      "  Downloading openpyxl-3.1.5-py2.py3-none-any.whl.metadata (2.5 kB)\n",
      "Collecting et-xmlfile (from openpyxl)\n",
      "  Downloading et_xmlfile-2.0.0-py3-none-any.whl.metadata (2.7 kB)\n",
      "Downloading openpyxl-3.1.5-py2.py3-none-any.whl (250 kB)\n",
      "Downloading et_xmlfile-2.0.0-py3-none-any.whl (18 kB)\n",
      "Installing collected packages: et-xmlfile, openpyxl\n",
      "Successfully installed et-xmlfile-2.0.0 openpyxl-3.1.5\n",
      "Note: you may need to restart the kernel to use updated packages.\n"
     ]
    },
    {
     "name": "stderr",
     "output_type": "stream",
     "text": [
      "\n",
      "[notice] A new release of pip is available: 25.0.1 -> 25.1.1\n",
      "[notice] To update, run: python.exe -m pip install --upgrade pip\n"
     ]
    }
   ],
   "source": []
  }
 ],
 "metadata": {
  "kernelspec": {
   "display_name": "Python 3",
   "language": "python",
   "name": "python3"
  },
  "language_info": {
   "codemirror_mode": {
    "name": "ipython",
    "version": 3
   },
   "file_extension": ".py",
   "mimetype": "text/x-python",
   "name": "python",
   "nbconvert_exporter": "python",
   "pygments_lexer": "ipython3",
   "version": "3.13.2"
  }
 },
 "nbformat": 4,
 "nbformat_minor": 5
}
