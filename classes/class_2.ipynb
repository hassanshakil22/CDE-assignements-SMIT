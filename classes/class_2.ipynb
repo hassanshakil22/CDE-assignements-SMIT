{
 "cells": [
  {
   "cell_type": "markdown",
   "id": "6b19d4c8",
   "metadata": {},
   "source": [
    "## WHILE LOOP\n",
    "\n"
   ]
  },
  {
   "cell_type": "markdown",
   "id": "079b55cb",
   "metadata": {},
   "source": [
    "## OOPS "
   ]
  },
  {
   "cell_type": "code",
   "execution_count": 3,
   "id": "f3346f93",
   "metadata": {},
   "outputs": [
    {
     "data": {
      "text/plain": [
       "'hassan'"
      ]
     },
     "execution_count": 3,
     "metadata": {},
     "output_type": "execute_result"
    }
   ],
   "source": [
    "\n",
    "class saylani :\n",
    "    def __init__(self,name,course):\n",
    "        self.student_name = name\n",
    "        self.student_Course = course\n",
    "        \n",
    "\n",
    "obj = saylani(\"hassan\",\"CDE\")\n",
    "obj.student_name"
   ]
  },
  {
   "cell_type": "markdown",
   "id": "ee52a0c7",
   "metadata": {},
   "source": [
    "## FILE HANDLING"
   ]
  },
  {
   "cell_type": "code",
   "execution_count": 5,
   "id": "71e6cf89",
   "metadata": {},
   "outputs": [],
   "source": [
    "f = open(\"hassan.txt\",'w')\n",
    "f.write(\"Hassan Shakil\")\n",
    "f.close()"
   ]
  },
  {
   "cell_type": "code",
   "execution_count": 7,
   "id": "047870b1",
   "metadata": {},
   "outputs": [],
   "source": [
    "f = open(\"hassan.txt\",'a')\n",
    "f.write(\" \\n appending\")\n",
    "f.close()"
   ]
  },
  {
   "cell_type": "code",
   "execution_count": 47,
   "id": "de3fd058",
   "metadata": {},
   "outputs": [
    {
     "name": "stdout",
     "output_type": "stream",
     "text": [
      "Hassan Shakil \n",
      "appending \n",
      "appending\n"
     ]
    }
   ],
   "source": [
    "f = open(\"hassan.txt\",'r')\n",
    "print(f.read())\n",
    "f.close()\n",
    "# f.close()\n"
   ]
  },
  {
   "cell_type": "code",
   "execution_count": 48,
   "id": "222b0dfd",
   "metadata": {},
   "outputs": [
    {
     "name": "stdout",
     "output_type": "stream",
     "text": [
      "Before deletion: ['class_1.ipynb', 'class_2.ipynb', 'hassan.txt']\n",
      "After deletion: ['class_1.ipynb', 'class_2.ipynb']\n"
     ]
    }
   ],
   "source": [
    "import os \n",
    "\n",
    "print(\"Before deletion:\", os.listdir())\n",
    "\n",
    "os.remove('hassan.txt')\n",
    "\n",
    "print(\"After deletion:\", os.listdir())"
   ]
  }
 ],
 "metadata": {
  "kernelspec": {
   "display_name": "Python 3",
   "language": "python",
   "name": "python3"
  },
  "language_info": {
   "codemirror_mode": {
    "name": "ipython",
    "version": 3
   },
   "file_extension": ".py",
   "mimetype": "text/x-python",
   "name": "python",
   "nbconvert_exporter": "python",
   "pygments_lexer": "ipython3",
   "version": "3.13.2"
  }
 },
 "nbformat": 4,
 "nbformat_minor": 5
}
