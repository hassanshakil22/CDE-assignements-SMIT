{
 "cells": [
  {
   "cell_type": "markdown",
   "id": "68f05cb2",
   "metadata": {},
   "source": [
    "## OOPS\n"
   ]
  },
  {
   "cell_type": "code",
   "execution_count": 2,
   "id": "5c8c2fd0",
   "metadata": {},
   "outputs": [
    {
     "name": "stdout",
     "output_type": "stream",
     "text": [
      "DOGGO is of breed German Shepherd\n"
     ]
    }
   ],
   "source": [
    "class Dog:\n",
    "    \n",
    "    def __init__(self,breed,name):\n",
    "        self.name = name\n",
    "        self.breed = breed\n",
    "\n",
    "    def getDetails(self):\n",
    "        print(f\"{self.name} is of breed {self.breed}\")\n",
    "\n",
    "obj = Dog(\"German Shepherd\" , \"DOGGO\")\n",
    "obj.getDetails()         "
   ]
  }
 ],
 "metadata": {
  "kernelspec": {
   "display_name": "Python 3",
   "language": "python",
   "name": "python3"
  },
  "language_info": {
   "codemirror_mode": {
    "name": "ipython",
    "version": 3
   },
   "file_extension": ".py",
   "mimetype": "text/x-python",
   "name": "python",
   "nbconvert_exporter": "python",
   "pygments_lexer": "ipython3",
   "version": "3.13.2"
  }
 },
 "nbformat": 4,
 "nbformat_minor": 5
}
