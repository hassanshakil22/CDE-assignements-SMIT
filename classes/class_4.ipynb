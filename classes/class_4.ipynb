{
 "cells": [
  {
   "cell_type": "markdown",
   "id": "2a856551",
   "metadata": {},
   "source": []
  },
  {
   "cell_type": "markdown",
   "id": "f36af56a",
   "metadata": {},
   "source": [
    "## inheritence"
   ]
  },
  {
   "cell_type": "code",
   "execution_count": null,
   "id": "131c2142",
   "metadata": {},
   "outputs": [
    {
     "data": {
      "text/plain": [
       "'Family head'"
      ]
     },
     "execution_count": 6,
     "metadata": {},
     "output_type": "execute_result"
    }
   ],
   "source": [
    "class GrandParent:\n",
    "    def heritage(self):\n",
    "        return \"Family head\"\n",
    "    \n",
    "class Parent(GrandParent):\n",
    "    def values(self):\n",
    "        return \"Discipline and respect\"\n",
    "class Child(Parent):\n",
    "    def hobby(self):\n",
    "        return \"cricket , chess\"        \n",
    "    \n",
    "obj = Child()\n",
    "obj.heritage()    "
   ]
  },
  {
   "cell_type": "markdown",
   "id": "b8ff4a1b",
   "metadata": {},
   "source": [
    "## ABSTRACTION\n",
    "- Abstraction means hiding the complex implementation details and showing only the essential features of an object or system to the user.\n",
    "- a class containing one or more method \n",
    "- abstract method doesnt contain implementation in them\n",
    "- they are the blue print of other classes \n",
    "- these calsses are used to write complex and large code \n",
    "  "
   ]
  },
  {
   "cell_type": "code",
   "execution_count": 8,
   "id": "28fe1242",
   "metadata": {},
   "outputs": [
    {
     "name": "stdout",
     "output_type": "stream",
     "text": [
      "Triangle has three sides\n"
     ]
    }
   ],
   "source": [
    "class Shapes: # asbtract class\n",
    "    def sides(self):\n",
    "        pass \n",
    "\n",
    "class Triangle(Shapes):\n",
    "    def sides(self):\n",
    "        print(\"Triangle has three sides\")\n",
    "    \n",
    "triangle = Triangle()\n",
    "triangle.sides()\n"
   ]
  },
  {
   "cell_type": "code",
   "execution_count": 11,
   "id": "9c61977d",
   "metadata": {},
   "outputs": [
    {
     "name": "stdout",
     "output_type": "stream",
     "text": [
      "4\n",
      "4.6\n",
      "hassan\n"
     ]
    }
   ],
   "source": [
    "from typing import overload\n",
    "\n",
    "class Adder():\n",
    "\n",
    "    @overload\n",
    "    def add(self,x:int , y:int) -> int:\n",
    "        pass\n",
    "    @overload\n",
    "    def add(self,x:int , y:int) -> float:\n",
    "        pass\n",
    "    @overload\n",
    "    def add(self,x:int , y:int) -> str:\n",
    "        pass\n",
    "    \n",
    "    def add(self,x , y) :\n",
    "        if isinstance(x,int) and isinstance(y,int):\n",
    "            return x+y\n",
    "        elif isinstance(x,float) and isinstance(y,float):\n",
    "            return x+y\n",
    "        elif isinstance(x,str) and isinstance(y,str):\n",
    "            return x+y\n",
    "        else:\n",
    "            raise TypeError(\"Type Error\")     \n",
    "        \n",
    "add = Adder()\n",
    "print(add.add(2,2))\n",
    "print(add.add(2.1,2.5))\n",
    "print(add.add(\"has\",\"san\"))\n",
    "# print(add.add(2,\"smit\"))\n"
   ]
  },
  {
   "cell_type": "markdown",
   "id": "574698aa",
   "metadata": {},
   "source": [
    "## POLYMORPHISM \n"
   ]
  },
  {
   "cell_type": "markdown",
   "id": "53c8ffb5",
   "metadata": {},
   "source": [
    "## ENCAPSULATION \n"
   ]
  },
  {
   "cell_type": "code",
   "execution_count": null,
   "id": "941ee6c1",
   "metadata": {},
   "outputs": [
    {
     "data": {
      "text/plain": [
       "302"
      ]
     },
     "execution_count": 15,
     "metadata": {},
     "output_type": "execute_result"
    }
   ],
   "source": [
    "class Saylani:\n",
    "    def __init__(self):\n",
    "        self.roll = 251\n",
    "        self._branch = \"Zaitoon Ashraf\"\n",
    "        self.__students = 100\n",
    "\n",
    "s = Saylani()\n",
    "s.roll = 302\n",
    "s.roll\n"
   ]
  },
  {
   "cell_type": "code",
   "execution_count": 16,
   "id": "249211bc",
   "metadata": {},
   "outputs": [
    {
     "data": {
      "text/plain": [
       "'BAHADURABAD MAIN'"
      ]
     },
     "execution_count": 16,
     "metadata": {},
     "output_type": "execute_result"
    }
   ],
   "source": [
    "s._branch = \"BAHADURABAD MAIN\"\n",
    "s._branch"
   ]
  },
  {
   "cell_type": "code",
   "execution_count": 19,
   "id": "c77e3742",
   "metadata": {},
   "outputs": [],
   "source": [
    "# s.__students #inaccessible"
   ]
  },
  {
   "cell_type": "markdown",
   "id": "db3fc9dc",
   "metadata": {},
   "source": [
    "## TASK --> \n",
    "- Create an encapsulation class i.e. 'StudentLogin()'\n",
    "- Initialize 2 'static' but 'private' attributes i.e.'__username' and 'password'\n",
    "- Create one _private method_ i.e. '__dbconnectivity' that will validate your username and password\n",
    "    - if both are valid print Connection_Built\n",
    "    - If either one is wrong print 'Failed to Connect'\n",
    "- Create a one public method 'Update_password' i.e. to update your private password"
   ]
  },
  {
   "cell_type": "markdown",
   "id": "1d277a62",
   "metadata": {},
   "source": []
  }
 ],
 "metadata": {
  "kernelspec": {
   "display_name": "Python 3",
   "language": "python",
   "name": "python3"
  },
  "language_info": {
   "codemirror_mode": {
    "name": "ipython",
    "version": 3
   },
   "file_extension": ".py",
   "mimetype": "text/x-python",
   "name": "python",
   "nbconvert_exporter": "python",
   "pygments_lexer": "ipython3",
   "version": "3.13.2"
  }
 },
 "nbformat": 4,
 "nbformat_minor": 5
}
