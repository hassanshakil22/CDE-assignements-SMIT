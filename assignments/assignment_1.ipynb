{
 "cells": [
  {
   "cell_type": "markdown",
   "metadata": {},
   "source": [
    "## assignement 1 "
   ]
  },
  {
   "cell_type": "markdown",
   "metadata": {},
   "source": [
    "# q1\n"
   ]
  },
  {
   "cell_type": "code",
   "execution_count": 1,
   "metadata": {},
   "outputs": [
    {
     "name": "stdout",
     "output_type": "stream",
     "text": [
      "hassan shakil \n",
      "\n"
     ]
    }
   ],
   "source": [
    "print(\"hassan shakil \\n\")"
   ]
  },
  {
   "cell_type": "markdown",
   "metadata": {},
   "source": [
    "# q2"
   ]
  },
  {
   "cell_type": "code",
   "execution_count": 2,
   "metadata": {},
   "outputs": [
    {
     "name": "stdout",
     "output_type": "stream",
     "text": [
      "name  hassan shakil  , age  20  description :  hi i am a flutter dev\n"
     ]
    }
   ],
   "source": [
    "name = \"hassan shakil\"\n",
    "age = 20 \n",
    "description = \"hi i am a flutter dev\"\n",
    "print(\"name \",name , \" , age \",age ,\" description : \", description )\n"
   ]
  },
  {
   "cell_type": "markdown",
   "metadata": {},
   "source": [
    "# q3\n"
   ]
  },
  {
   "cell_type": "code",
   "execution_count": 3,
   "metadata": {},
   "outputs": [
    {
     "name": "stdout",
     "output_type": "stream",
     "text": [
      "ADDITION OF a & b: 15\n",
      "SUBTRACTION OF a & b: -1\n",
      "MULTIPLICATION OF a & b: 56\n",
      "DIVISION OF a & b: 0.875\n"
     ]
    }
   ],
   "source": [
    "a=7\n",
    "b=8\n",
    "print('ADDITION OF a & b:',a+b)\n",
    "print('SUBTRACTION OF a & b:',a-b)\n",
    "print('MULTIPLICATION OF a & b:',a*b)\n",
    "print('DIVISION OF a & b:',a/b)\n"
   ]
  },
  {
   "cell_type": "markdown",
   "metadata": {},
   "source": [
    "# q4\n"
   ]
  },
  {
   "cell_type": "code",
   "execution_count": 4,
   "metadata": {},
   "outputs": [
    {
     "name": "stdout",
     "output_type": "stream",
     "text": [
      "Total marks  87.0\n"
     ]
    }
   ],
   "source": [
    "english = 83\n",
    "isl = 85\n",
    "math = 93\n",
    "total = 300\n",
    "print (\"Total marks \",(( english + isl + math)/300)*100 ) \n"
   ]
  },
  {
   "cell_type": "markdown",
   "metadata": {},
   "source": [
    "# Part -2 Python Basics (Conditional Statements)\n"
   ]
  },
  {
   "cell_type": "markdown",
   "metadata": {},
   "source": [
    "# Q 1 \n",
    " "
   ]
  },
  {
   "cell_type": "code",
   "execution_count": 10,
   "metadata": {},
   "outputs": [
    {
     "name": "stdout",
     "output_type": "stream",
     "text": [
      "Congratulations! 1.1500000000000001\n"
     ]
    }
   ],
   "source": [
    "salary = float(input())  \n",
    "years_of_service = int(input())  \n",
    "\n",
    "if years_of_service > 5:  \n",
    "    print(\"Congratulations!\", 0.05 * salary)  \n",
    "else:  \n",
    "    print(\"Sorry\")  \n"
   ]
  },
  {
   "cell_type": "markdown",
   "metadata": {},
   "source": [
    "# Q2\n",
    "\n"
   ]
  },
  {
   "cell_type": "code",
   "execution_count": 12,
   "metadata": {},
   "outputs": [
    {
     "name": "stdout",
     "output_type": "stream",
     "text": [
      "You are eligible to vote.\n"
     ]
    }
   ],
   "source": [
    "age = int(input(\"Enter your age: \"))\n",
    "\n",
    "if age > 17:\n",
    "    print(\"You are eligible to vote.\")\n",
    "else:\n",
    "    print(\"You are not eligible to vote.\")\n"
   ]
  },
  {
   "cell_type": "markdown",
   "metadata": {},
   "source": [
    "## q3\n",
    "\n",
    "\n"
   ]
  },
  {
   "cell_type": "code",
   "execution_count": 14,
   "metadata": {},
   "outputs": [
    {
     "name": "stdout",
     "output_type": "stream",
     "text": [
      "Even\n"
     ]
    }
   ],
   "source": [
    "num = int(input())  \n",
    "\n",
    "if num % 2 == 0:  \n",
    "    print(\"Even\")  \n",
    "else:  \n",
    "    print(\"Odd\")  \n",
    "\n"
   ]
  },
  {
   "cell_type": "markdown",
   "metadata": {},
   "source": [
    "# q4"
   ]
  },
  {
   "cell_type": "code",
   "execution_count": 15,
   "metadata": {},
   "outputs": [
    {
     "name": "stdout",
     "output_type": "stream",
     "text": [
      "Not divisible by 7\n"
     ]
    }
   ],
   "source": [
    "num = int(input())  \n",
    "\n",
    "if num % 7 == 0:  \n",
    "    print(\"Divisible by 7\")  \n",
    "else:  \n",
    "    print(\"Not divisible by 7\")  \n",
    "\n"
   ]
  },
  {
   "cell_type": "markdown",
   "metadata": {},
   "source": [
    "# q5"
   ]
  },
  {
   "cell_type": "code",
   "execution_count": 16,
   "metadata": {},
   "outputs": [
    {
     "name": "stdout",
     "output_type": "stream",
     "text": [
      "Bye\n"
     ]
    }
   ],
   "source": [
    "num = int(input())  \n",
    "\n",
    "if num % 5 == 0:  \n",
    "    print(\"Hello\")  \n",
    "else:  \n",
    "    print(\"Bye\")  \n"
   ]
  },
  {
   "cell_type": "markdown",
   "metadata": {},
   "source": [
    "# q7\n"
   ]
  },
  {
   "cell_type": "code",
   "execution_count": 17,
   "metadata": {},
   "outputs": [
    {
     "name": "stdout",
     "output_type": "stream",
     "text": [
      "5\n"
     ]
    }
   ],
   "source": [
    "\n",
    "num = int(input())  \n",
    "print(num % 10)  "
   ]
  },
  {
   "cell_type": "markdown",
   "metadata": {},
   "source": [
    "# q9"
   ]
  },
  {
   "cell_type": "code",
   "execution_count": 18,
   "metadata": {},
   "outputs": [
    {
     "name": "stdout",
     "output_type": "stream",
     "text": [
      "Square\n"
     ]
    }
   ],
   "source": [
    "length = int(input())  \n",
    "breadth = int(input())  \n",
    "\n",
    "if length == breadth:  \n",
    "    print(\"Square\")  \n",
    "else:  \n",
    "    print(\"Rectangle\")  \n"
   ]
  },
  {
   "cell_type": "markdown",
   "metadata": {},
   "source": [
    "# q10\n"
   ]
  },
  {
   "cell_type": "code",
   "execution_count": 20,
   "metadata": {},
   "outputs": [
    {
     "ename": "ValueError",
     "evalue": "invalid literal for int() with base 10: ''",
     "output_type": "error",
     "traceback": [
      "\u001b[1;31m---------------------------------------------------------------------------\u001b[0m",
      "\u001b[1;31mValueError\u001b[0m                                Traceback (most recent call last)",
      "Cell \u001b[1;32mIn[20], line 1\u001b[0m\n\u001b[1;32m----> 1\u001b[0m a \u001b[38;5;241m=\u001b[39m \u001b[38;5;28mint\u001b[39m(\u001b[38;5;28minput\u001b[39m())  \n\u001b[0;32m      2\u001b[0m b \u001b[38;5;241m=\u001b[39m \u001b[38;5;28mint\u001b[39m(\u001b[38;5;28minput\u001b[39m())  \n\u001b[0;32m      4\u001b[0m \u001b[38;5;28;01mif\u001b[39;00m a \u001b[38;5;241m>\u001b[39m b:  \n",
      "\u001b[1;31mValueError\u001b[0m: invalid literal for int() with base 10: ''"
     ]
    }
   ],
   "source": [
    "a = int(input())  \n",
    "b = int(input())  \n",
    "\n",
    "if a > b:  \n",
    "    print(a)  \n",
    "else:  \n",
    "    print(b)  \n",
    "\n"
   ]
  },
  {
   "cell_type": "markdown",
   "metadata": {},
   "source": [
    "# q11\n"
   ]
  },
  {
   "cell_type": "code",
   "execution_count": 21,
   "metadata": {},
   "outputs": [
    {
     "name": "stdout",
     "output_type": "stream",
     "text": [
      "11070.0\n"
     ]
    }
   ],
   "source": [
    "quantity = int(input())  \n",
    "totalCost = quantity * 100  \n",
    "\n",
    "if totalCost > 1000:  \n",
    "    totalCost *= 0.9  \n",
    "\n",
    "print(totalCost)  \n"
   ]
  },
  {
   "cell_type": "markdown",
   "metadata": {},
   "source": [
    "# q 12"
   ]
  },
  {
   "cell_type": "code",
   "execution_count": 22,
   "metadata": {},
   "outputs": [
    {
     "name": "stdout",
     "output_type": "stream",
     "text": [
      "A\n"
     ]
    }
   ],
   "source": [
    "marks = int(input())  \n",
    "\n",
    "if marks < 25:  \n",
    "    print(\"F\")  \n",
    "elif marks <= 45:  \n",
    "    print(\"E\")  \n",
    "elif marks <= 50:  \n",
    "    print(\"D\")  \n",
    "elif marks <= 60:  \n",
    "    print(\"C\")  \n",
    "elif marks <= 80:  \n",
    "    print(\"B\")  \n",
    "else:  \n",
    "    print(\"A\")  \n"
   ]
  },
  {
   "cell_type": "markdown",
   "metadata": {},
   "source": [
    "# q 14\n"
   ]
  },
  {
   "cell_type": "code",
   "execution_count": 24,
   "metadata": {},
   "outputs": [
    {
     "name": "stdout",
     "output_type": "stream",
     "text": [
      "100.0\n",
      "Allowed\n"
     ]
    }
   ],
   "source": [
    "totalClasses = int(input())  \n",
    "attendedClasses = int(input())  \n",
    "\n",
    "attendancePercentage = (attendedClasses / totalClasses) * 100  \n",
    "print(attendancePercentage)  \n",
    "\n",
    "if attendancePercentage >= 75:  \n",
    "    print(\"Allowed\")  \n",
    "else:  \n",
    "    print(\"Not Allowed\")  \n"
   ]
  },
  {
   "cell_type": "markdown",
   "metadata": {},
   "source": [
    "# q 15 "
   ]
  },
  {
   "cell_type": "code",
   "execution_count": 25,
   "metadata": {},
   "outputs": [
    {
     "name": "stdout",
     "output_type": "stream",
     "text": [
      "100.0\n",
      "Allowed\n"
     ]
    }
   ],
   "source": [
    "totalClasses = int(input())  \n",
    "attendedClasses = int(input())  \n",
    "\n",
    "attendancePercentage = (attendedClasses / totalClasses) * 100  \n",
    "print(attendancePercentage)  \n",
    "\n",
    "if attendancePercentage >= 75:  \n",
    "    print(\"Allowed\")  \n",
    "else:  \n",
    "    medicalCause = input(\"Do you have a medical cause? (Y/N): \")  \n",
    "    if medicalCause.upper() == 'Y':  \n",
    "        print(\"Allowed\")  \n",
    "    else:  \n",
    "        print(\"Not Allowed\")  \n"
   ]
  },
  {
   "cell_type": "markdown",
   "metadata": {},
   "source": [
    "# q 16"
   ]
  },
  {
   "cell_type": "code",
   "execution_count": 26,
   "metadata": {},
   "outputs": [
    {
     "name": "stdout",
     "output_type": "stream",
     "text": [
      "Leap Year\n"
     ]
    }
   ],
   "source": [
    "year = int(input())  \n",
    "\n",
    "if (year % 4 == 0 and year % 100 != 0) or (year % 400 == 0):  \n",
    "    print(\"Leap Year\")  \n",
    "else:  \n",
    "    print(\"Not a Leap Year\")  \n",
    "\n"
   ]
  },
  {
   "cell_type": "markdown",
   "metadata": {},
   "source": [
    "# q 17"
   ]
  },
  {
   "cell_type": "code",
   "execution_count": 27,
   "metadata": {},
   "outputs": [
    {
     "name": "stdout",
     "output_type": "stream",
     "text": [
      "ERROR\n"
     ]
    }
   ],
   "source": [
    "age = int(input())  \n",
    "gender = input().upper()  \n",
    "maritalStatus = input().upper()  \n",
    "\n",
    "if gender == 'F':  \n",
    "    print(\"Urban Areas Only\")  \n",
    "elif gender == 'M':  \n",
    "    if 20 <= age <= 40:  \n",
    "        print(\"Anywhere\")  \n",
    "    elif 40 < age <= 60:  \n",
    "        print(\"Urban Areas Only\")  \n",
    "    else:  \n",
    "        print(\"ERROR\")  \n",
    "else:  \n",
    "    print(\"ERROR\")  \n"
   ]
  },
  {
   "cell_type": "markdown",
   "metadata": {},
   "source": [
    "# q 6"
   ]
  },
  {
   "cell_type": "code",
   "execution_count": 28,
   "metadata": {},
   "outputs": [
    {
     "name": "stdout",
     "output_type": "stream",
     "text": [
      "30420\n"
     ]
    }
   ],
   "source": [
    "units = int(input())  \n",
    "bill = 0  \n",
    "\n",
    "if units > 300:  \n",
    "    bill = (units - 300) * 10 + 200 * 5  \n",
    "elif units > 100:  \n",
    "    bill = (units - 100) * 5  \n",
    "\n",
    "print(bill)  \n",
    "\n",
    "\n"
   ]
  },
  {
   "cell_type": "markdown",
   "metadata": {},
   "source": [
    "# q 13"
   ]
  },
  {
   "cell_type": "code",
   "execution_count": 30,
   "metadata": {},
   "outputs": [
    {
     "name": "stdout",
     "output_type": "stream",
     "text": [
      "Oldest: 2342\n",
      "Youngest: 242\n"
     ]
    }
   ],
   "source": [
    "age1 = int(input())  \n",
    "age2 = int(input())  \n",
    "age3 = int(input())  \n",
    "\n",
    "oldest = max(age1, age2, age3)  \n",
    "youngest = min(age1, age2, age3)  \n",
    "\n",
    "print(\"Oldest:\", oldest)  \n",
    "print(\"Youngest:\", youngest)  \n"
   ]
  },
  {
   "cell_type": "code",
   "execution_count": null,
   "metadata": {},
   "outputs": [],
   "source": []
  }
 ],
 "metadata": {
  "kernelspec": {
   "display_name": "base",
   "language": "python",
   "name": "python3"
  },
  "language_info": {
   "codemirror_mode": {
    "name": "ipython",
    "version": 3
   },
   "file_extension": ".py",
   "mimetype": "text/x-python",
   "name": "python",
   "nbconvert_exporter": "python",
   "pygments_lexer": "ipython3",
   "version": "3.12.7"
  }
 },
 "nbformat": 4,
 "nbformat_minor": 2
}
