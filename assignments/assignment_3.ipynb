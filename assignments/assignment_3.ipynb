{
 "cells": [
  {
   "cell_type": "markdown",
   "metadata": {},
   "source": [
    "## Q1"
   ]
  },
  {
   "cell_type": "code",
   "execution_count": 9,
   "metadata": {},
   "outputs": [
    {
     "name": "stdout",
     "output_type": "stream",
     "text": [
      "5\n"
     ]
    }
   ],
   "source": [
    "user = input('Enter your string : ')\n",
    "vowels = 0\n",
    "for alph in user:\n",
    "    alph = alph.upper()\n",
    "\n",
    "    if(alph== 'A' or alph== 'E' or alph == 'I' or alph == 'O' or alph == 'U' ):\n",
    "       vowels= vowels+1\n",
    "print (vowels)        \n"
   ]
  },
  {
   "cell_type": "markdown",
   "metadata": {},
   "source": [
    "## Q2"
   ]
  },
  {
   "cell_type": "code",
   "execution_count": 13,
   "metadata": {},
   "outputs": [
    {
     "name": "stdout",
     "output_type": "stream",
     "text": [
      "Digs :  0 \n",
      "\n",
      "uppercase :  0 \n",
      "\n",
      "lowercase :  0 \n",
      "\n",
      "whitespaces :  0 \n",
      "\n"
     ]
    }
   ],
   "source": [
    "userinp = input('Enter your string : ')\n",
    "uppercase =0\n",
    "lowercase =0\n",
    "digs =0\n",
    "whitespaces =0\n",
    "for i in userinp:\n",
    "    if ( i.isspace() ):\n",
    "        whitespaces = whitespaces+1\n",
    "    if ( i.isupper() ):\n",
    "        uppercase = uppercase+1\n",
    "    if ( i.islower() ):\n",
    "        lowercase= lowercase+1\n",
    "    if ( i.isdigit() ):\n",
    "        digs =digs+1\n",
    "\n",
    "print(\"Digs : \", digs ,\"\\n\")    \n",
    "print(\"uppercase : \", uppercase ,\"\\n\")    \n",
    "print(\"lowercase : \", lowercase,\"\\n\")    \n",
    "print(\"whitespaces : \", whitespaces ,\"\\n\")    "
   ]
  },
  {
   "cell_type": "markdown",
   "metadata": {},
   "source": [
    "## Q3\n",
    " "
   ]
  },
  {
   "cell_type": "code",
   "execution_count": 17,
   "metadata": {},
   "outputs": [
    {
     "data": {
      "text/plain": [
       "'oellh'"
      ]
     },
     "execution_count": 17,
     "metadata": {},
     "output_type": "execute_result"
    }
   ],
   "source": [
    "user_inp = input(\"Enter anything \")\n",
    "temp = user_inp[-1] + user_inp[1:-1] + user_inp[0]\n",
    "temp"
   ]
  },
  {
   "cell_type": "markdown",
   "metadata": {},
   "source": [
    "## Q4\n"
   ]
  },
  {
   "cell_type": "code",
   "execution_count": 22,
   "metadata": {},
   "outputs": [
    {
     "data": {
      "text/plain": [
       "'iloh'"
      ]
     },
     "execution_count": 22,
     "metadata": {},
     "output_type": "execute_result"
    }
   ],
   "source": [
    "user_inp1 = input(\"Enter anything \")\n",
    "\n",
    "reversed_string = user_inp1[::-1]\n",
    "reversed_string"
   ]
  },
  {
   "cell_type": "markdown",
   "metadata": {},
   "source": [
    "\n",
    "## q5"
   ]
  },
  {
   "cell_type": "code",
   "execution_count": 1,
   "metadata": {},
   "outputs": [
    {
     "data": {
      "text/plain": [
       "'hwdawda'"
      ]
     },
     "execution_count": 1,
     "metadata": {},
     "output_type": "execute_result"
    }
   ],
   "source": [
    "stringg = input(\"Enter a String\") \n",
    "onePosLeft = stringg[1:]  + stringg[0]\n",
    "onePosLeft"
   ]
  },
  {
   "cell_type": "markdown",
   "metadata": {},
   "source": [
    "## Q6\n"
   ]
  },
  {
   "cell_type": "code",
   "execution_count": 2,
   "metadata": {},
   "outputs": [
    {
     "data": {
      "text/plain": [
       "'H.S.A'"
      ]
     },
     "execution_count": 2,
     "metadata": {},
     "output_type": "execute_result"
    }
   ],
   "source": [
    "user_inp2 = input(\"Enter your full name with spaces\")\n",
    "initals=user_inp2[0].capitalize() \n",
    "iteration=0\n",
    "for i in user_inp2:\n",
    "\n",
    "    if(i.isspace()):\n",
    "       initals = initals + \".\"\n",
    "       initals = initals + user_inp2[iteration+1].capitalize()\n",
    "\n",
    "    iteration = iteration + 1\n",
    "initals"
   ]
  },
  {
   "cell_type": "markdown",
   "metadata": {},
   "source": [
    "## Q7"
   ]
  },
  {
   "cell_type": "code",
   "execution_count": 49,
   "metadata": {},
   "outputs": [
    {
     "name": "stdout",
     "output_type": "stream",
     "text": [
      "Following string is palindrome  racecar\n"
     ]
    }
   ],
   "source": [
    "user_inp3 = input(\"Enter a palindrome\")\n",
    "if(user_inp3 == user_inp3[::-1]):\n",
    "    print(\"Following string is palindrome \" , user_inp3) \n",
    "else:\n",
    "    print(\"Following string is not  palindrome \" , user_inp3) \n"
   ]
  },
  {
   "cell_type": "markdown",
   "metadata": {},
   "source": [
    "## Q8"
   ]
  },
  {
   "cell_type": "code",
   "execution_count": 55,
   "metadata": {},
   "outputs": [
    {
     "name": "stdout",
     "output_type": "stream",
     "text": [
      "shift\n",
      "hifts\n",
      "iftsh\n",
      "ftshi\n",
      "tshif\n",
      "shift\n"
     ]
    }
   ],
   "source": [
    "anything = \"shift\"\n",
    "print(anything)\n",
    "i = 0  \n",
    "while i < 5:  \n",
    "   print( anything[(1+i):] + anything[:i+1] )  \n",
    "   i += 1  "
   ]
  },
  {
   "cell_type": "markdown",
   "metadata": {},
   "source": [
    "# Q9\n",
    "\n"
   ]
  },
  {
   "cell_type": "code",
   "execution_count": 3,
   "metadata": {},
   "outputs": [
    {
     "name": "stdout",
     "output_type": "stream",
     "text": [
      "Password is valid.\n"
     ]
    }
   ],
   "source": [
    "password = input(\"Enter your password: \")\n",
    "if len(password) < 8:\n",
    "    print(\"Password must be at least 8 characters long.\")\n",
    "elif not any(char.isupper() for char in password):\n",
    "    print(\"Password must contain at least one uppercase letter.\")\n",
    "elif not any(char.islower() for char in password):\n",
    "    print(\"Password must contain at least one lowercase letter.\")\n",
    "elif not any(char.isdigit() for char in password):\n",
    "    print(\"Password must contain at least one numeric digit.\")\n",
    "else:\n",
    "    print(\"Password is valid.\")\n"
   ]
  }
 ],
 "metadata": {
  "kernelspec": {
   "display_name": "Python 3",
   "language": "python",
   "name": "python3"
  },
  "language_info": {
   "codemirror_mode": {
    "name": "ipython",
    "version": 3
   },
   "file_extension": ".py",
   "mimetype": "text/x-python",
   "name": "python",
   "nbconvert_exporter": "python",
   "pygments_lexer": "ipython3",
   "version": "3.13.2"
  }
 },
 "nbformat": 4,
 "nbformat_minor": 2
}
